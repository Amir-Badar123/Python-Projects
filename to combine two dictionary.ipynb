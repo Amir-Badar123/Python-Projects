{
 "cells": [
  {
   "cell_type": "code",
   "execution_count": 2,
   "metadata": {},
   "outputs": [],
   "source": [
    "#Write a Python program to combine two dictionary adding values for common keys."
   ]
  },
  {
   "cell_type": "code",
   "execution_count": 3,
   "metadata": {},
   "outputs": [],
   "source": [
    "d1 = {'a': 100, 'b': 200, 'c':300}"
   ]
  },
  {
   "cell_type": "code",
   "execution_count": 22,
   "metadata": {},
   "outputs": [],
   "source": [
    "d2 = {'a': 300, 'b': 200, 'd':400}"
   ]
  },
  {
   "cell_type": "code",
   "execution_count": 23,
   "metadata": {},
   "outputs": [],
   "source": [
    "#''{'a': 400, 'b': 400, 'd': 400, 'c': 300}''"
   ]
  },
  {
   "cell_type": "code",
   "execution_count": 24,
   "metadata": {},
   "outputs": [
    {
     "data": {
      "text/plain": [
       "{'a': 400, 'b': 400, 'd': 400, 'c': 300}"
      ]
     },
     "execution_count": 24,
     "metadata": {},
     "output_type": "execute_result"
    }
   ],
   "source": [
    "\n",
    "\n",
    "d1 = {'a': 100, 'b': 200, 'c':300}\n",
    "d2 = {'a': 300, 'b': 200, 'd':400}\n",
    "{'a': 400, 'b': 400, 'd': 400, 'c': 300}\n",
    "\n",
    "\n",
    "# def add_dict(d1, d2):\n",
    "    # d = {}\n",
    "    # for i in d1:\n",
    "    #     for j in d2:\n",
    "    #         if i == j:\n",
    "    #             d[i] = d1[i] + d2[j]\n",
    "    #         else:\n",
    "    #             if i:\n",
    "    #                 d[i] = d1[i]\n",
    "    #             else:\n",
    "    #                 d[i] = d2[j]\n",
    "# def add_dict(d1, d2):\n",
    "#     for i in d2:\n",
    "#         if i in d1:\n",
    "#             d1[i] = d1[i] + d2[i]\n",
    "#         else:\n",
    "#             d1[i] = d2[i]\n",
    "#     return d1\n",
    "\n",
    "# if __name__ == '__main__':\n",
    "#     d1 = {'a': 100, 'b': 200, 'c':300}\n",
    "#     d2 = {'a': 300, 'b': 200, 'd':400}\n",
    "#     print(add_dict(d1, d2))\n"
   ]
  },
  {
   "cell_type": "code",
   "execution_count": null,
   "metadata": {},
   "outputs": [],
   "source": []
  }
 ],
 "metadata": {
  "kernelspec": {
   "display_name": "Python 3",
   "language": "python",
   "name": "python3"
  },
  "language_info": {
   "codemirror_mode": {
    "name": "ipython",
    "version": 3
   },
   "file_extension": ".py",
   "mimetype": "text/x-python",
   "name": "python",
   "nbconvert_exporter": "python",
   "pygments_lexer": "ipython3",
   "version": "3.7.6"
  }
 },
 "nbformat": 4,
 "nbformat_minor": 4
}
