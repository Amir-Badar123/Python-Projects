{
 "cells": [
  {
   "cell_type": "code",
   "execution_count": 6,
   "metadata": {},
   "outputs": [
    {
     "ename": "SyntaxError",
     "evalue": "invalid syntax (<ipython-input-6-28d58d5407ed>, line 8)",
     "output_type": "error",
     "traceback": [
      "\u001b[1;36m  File \u001b[1;32m\"<ipython-input-6-28d58d5407ed>\"\u001b[1;36m, line \u001b[1;32m8\u001b[0m\n\u001b[1;33m    for i in range (1,n+1)\u001b[0m\n\u001b[1;37m                          ^\u001b[0m\n\u001b[1;31mSyntaxError\u001b[0m\u001b[1;31m:\u001b[0m invalid syntax\n"
     ]
    }
   ],
   "source": [
    "n = 4\n",
    "def     left_angled_triangle(n,ch):\n",
    "    for i in range(1,n+1):\n",
    "        if i%2==0:\n",
    "            print(\"^\"*(n-i),(ch*i),sep = \"\",end = \"\\n\")\n",
    "    else:\n",
    "        print((int(n/2))*\"\",(i+1)*ch)\n",
    "        for i in range (1,n+1)\n",
    "        print((n-1)*ch)"
   ]
  },
  {
   "cell_type": "code",
   "execution_count": null,
   "metadata": {},
   "outputs": [],
   "source": []
  }
 ],
 "metadata": {
  "kernelspec": {
   "display_name": "Python 3",
   "language": "python",
   "name": "python3"
  },
  "language_info": {
   "codemirror_mode": {
    "name": "ipython",
    "version": 3
   },
   "file_extension": ".py",
   "mimetype": "text/x-python",
   "name": "python",
   "nbconvert_exporter": "python",
   "pygments_lexer": "ipython3",
   "version": "3.7.6"
  }
 },
 "nbformat": 4,
 "nbformat_minor": 4
}
