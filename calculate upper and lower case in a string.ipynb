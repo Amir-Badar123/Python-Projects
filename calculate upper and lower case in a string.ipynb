{
 "cells": [
  {
   "cell_type": "code",
   "execution_count": 1,
   "metadata": {},
   "outputs": [],
   "source": [
    "# Write a Python function that accepts a string and calculates the number of upper case letters and lower case letters."
   ]
  },
  {
   "cell_type": "code",
   "execution_count": 2,
   "metadata": {},
   "outputs": [],
   "source": [
    "def up_low(s):\n",
    "    d = {'upper':0,'lower':0}\n",
    "    for c in s:\n",
    "        if c.isupper():\n",
    "            d['upper'] += 1\n",
    "            \n",
    "        elif c.islower():\n",
    "            d['lower'] += 1\n",
    "        \n",
    "        else:\n",
    "            pass\n",
    "        print(\"Original string:\",s)\n",
    "        print(\"No. of upper case character:\",d['upper'])\n",
    "        print(\"No, of lower case character:\",d['lower'])"
   ]
  },
  {
   "cell_type": "code",
   "execution_count": 8,
   "metadata": {},
   "outputs": [
    {
     "name": "stdout",
     "output_type": "stream",
     "text": [
      "Original String :  My name is Mr. Amir Badar\n",
      "No. of Upper case characters :  4\n",
      "No. of Lower case Characters :  15\n"
     ]
    }
   ],
   "source": [
    "s = 'My name is Mr. Amir Badar'\n",
    "up_low(s)\n"
   ]
  },
  {
   "cell_type": "code",
   "execution_count": null,
   "metadata": {},
   "outputs": [],
   "source": []
  }
 ],
 "metadata": {
  "kernelspec": {
   "display_name": "Python 3",
   "language": "python",
   "name": "python3"
  },
  "language_info": {
   "codemirror_mode": {
    "name": "ipython",
    "version": 3
   },
   "file_extension": ".py",
   "mimetype": "text/x-python",
   "name": "python",
   "nbconvert_exporter": "python",
   "pygments_lexer": "ipython3",
   "version": "3.7.6"
  }
 },
 "nbformat": 4,
 "nbformat_minor": 4
}
