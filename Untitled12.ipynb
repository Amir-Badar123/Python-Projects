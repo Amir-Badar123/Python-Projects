{
 "cells": [
  {
   "cell_type": "code",
   "execution_count": 5,
   "metadata": {},
   "outputs": [
    {
     "ename": "SyntaxError",
     "evalue": "invalid syntax (<ipython-input-5-593615e8407a>, line 6)",
     "output_type": "error",
     "traceback": [
      "\u001b[1;36m  File \u001b[1;32m\"<ipython-input-5-593615e8407a>\"\u001b[1;36m, line \u001b[1;32m6\u001b[0m\n\u001b[1;33m    except zero division error as z:\u001b[0m\n\u001b[1;37m         ^\u001b[0m\n\u001b[1;31mSyntaxError\u001b[0m\u001b[1;31m:\u001b[0m invalid syntax\n"
     ]
    }
   ],
   "source": [
    "def div_list(dividend,list_of_divisors):\n",
    "    l = []\n",
    "    for i in list_of_divisors:\n",
    "        try:\n",
    "            l.append(dividend/i)\n",
    "            except zero division error as z:\n",
    "                print(\"encountered a zero division error\",z)\n",
    "                l.append(0)\n",
    "            print(i,l)\n",
    "            \n",
    "            return l\n",
    "        \n",
    "        def list_of_divisors(n):\n",
    "            #4-> [-4,-3,-2,-1,0,1,2,3,4]\n",
    "            return i for i in range(-n,n+1)\n",
    "        if __name__ == \"__main__\":\n",
    "            div = int(input(\"enter div:\"))\n",
    "            l = list_of_divisors(int(input(\"enter n:\")))\n",
    "            print(div_list(div,l))\n",
    "        "
   ]
  },
  {
   "cell_type": "code",
   "execution_count": null,
   "metadata": {},
   "outputs": [],
   "source": [
    "_list"
   ]
  }
 ],
 "metadata": {
  "kernelspec": {
   "display_name": "Python 3",
   "language": "python",
   "name": "python3"
  },
  "language_info": {
   "codemirror_mode": {
    "name": "ipython",
    "version": 3
   },
   "file_extension": ".py",
   "mimetype": "text/x-python",
   "name": "python",
   "nbconvert_exporter": "python",
   "pygments_lexer": "ipython3",
   "version": "3.7.6"
  }
 },
 "nbformat": 4,
 "nbformat_minor": 4
}
