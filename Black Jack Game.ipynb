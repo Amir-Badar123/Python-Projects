{
 "cells": [
  {
   "cell_type": "code",
   "execution_count": 1,
   "metadata": {},
   "outputs": [],
   "source": [
    "#Milestone project 2"
   ]
  },
  {
   "cell_type": "code",
   "execution_count": 114,
   "metadata": {},
   "outputs": [],
   "source": [
    "#Step 1: Import the random module. This will be used to shuffle the deck prior to dealing. \n",
    "# Then, declare variables to store suits, ranks and values. You can develop your own system, or copy ours below. \n",
    "# Finally, declare a Boolean value to be used to control while loops. \n",
    "# This is a common practice used to control the flow of the game."
   ]
  },
  {
   "cell_type": "code",
   "execution_count": 25,
   "metadata": {},
   "outputs": [],
   "source": [
    "import random\n",
    "\n",
    "suits = ('Hearts','Diamonds', 'Spades','Clubs')\n",
    "ranks = ('Two','Three','Four','Five','Six','Seven','Eight','Nine','Ten','Jack','Queen','King','Ace')\n",
    "values ={'Two':2,'Three':3,'Four':4,'Five':5,'Six':6,'Seven':7,'Eight':8,'Nine':9,'Ten':10,'Jack':10,\n",
    "         'Queen':10,'King':10,'Ace':11}\n",
    "\n",
    "playing = True"
   ]
  },
  {
   "cell_type": "code",
   "execution_count": 26,
   "metadata": {},
   "outputs": [],
   "source": [
    "# Step 2: Create a Card Class\n",
    "# A Card object really only needs two attributes: suit and rank. \n",
    "# You might add an attribute for \"value\" - we chose to handle value later when developing our Hand class.\n",
    "# In addition to the Card's __init__ method, consider adding a __str__ method that, \n",
    "# when asked to print a Card, returns a string in the form \"Two of Hearts\""
   ]
  },
  {
   "cell_type": "code",
   "execution_count": 27,
   "metadata": {},
   "outputs": [],
   "source": [
    "class Card():\n",
    "    \n",
    "    def __init__(self,suit,rank):\n",
    "        self.suit = suit\n",
    "        self.rank = rank\n",
    "        \n",
    "    def __str__(self):\n",
    "        return self.rank + \"of\" + self.suit"
   ]
  },
  {
   "cell_type": "code",
   "execution_count": 28,
   "metadata": {},
   "outputs": [],
   "source": [
    "# Step 3: Create a Deck Class\n",
    "# Here we might store 52 card objects in a list that can later be shuffled.\n",
    "# First, though, we need to instantiate all 52 unique card objects and add them to our list.\n",
    "# So long as the Card class definition appears in our code, we can build Card objects inside our Deck __init__ method. \n",
    "# Consider iterating over sequences of suits and ranks to build out each card.\n",
    "# This might appear inside a Deck class __init__ method:\n",
    "\n",
    "# for suit in suits:\n",
    "#     for rank in ranks:\n",
    "\n",
    "# In addition to an __init__ method we'll want to add methods to shuffle our deck, and to deal out cards during gameplay."
   ]
  },
  {
   "cell_type": "code",
   "execution_count": 29,
   "metadata": {},
   "outputs": [],
   "source": [
    "class Deck:\n",
    "    \n",
    "    def __init__(self):\n",
    "        \n",
    "        self.deck = [] #start with an empty list\n",
    "        for suit in suits:\n",
    "            for rank in ranks:\n",
    "                self.deck.append(Card(suit,rank))\n",
    "                \n",
    "    def __str__(self):\n",
    "        deck_comp = ' '\n",
    "        for card in self.deck:\n",
    "            deck_comp += '\\n' +card.__str__()\n",
    "        return \"The deck has: \"+ deck_comp\n",
    "            \n",
    "    def shuffle(self):\n",
    "        random.shuffle(self.deck)\n",
    "        \n",
    "    def deal(self):\n",
    "        single_card = self.deck.pop()\n",
    "        return single_card"
   ]
  },
  {
   "cell_type": "code",
   "execution_count": 30,
   "metadata": {},
   "outputs": [
    {
     "name": "stdout",
     "output_type": "stream",
     "text": [
      "The deck has:  \n",
      "FiveofHearts\n",
      "EightofDiamonds\n",
      "FiveofDiamonds\n",
      "QueenofDiamonds\n",
      "SevenofDiamonds\n",
      "FiveofClubs\n",
      "JackofSpades\n",
      "TwoofHearts\n",
      "TenofClubs\n",
      "FourofDiamonds\n",
      "JackofDiamonds\n",
      "QueenofHearts\n",
      "ThreeofHearts\n",
      "TenofSpades\n",
      "QueenofClubs\n",
      "JackofClubs\n",
      "FiveofSpades\n",
      "NineofHearts\n",
      "EightofClubs\n",
      "SixofDiamonds\n",
      "NineofSpades\n",
      "EightofSpades\n",
      "SevenofSpades\n",
      "KingofClubs\n",
      "TenofHearts\n",
      "ThreeofClubs\n",
      "NineofDiamonds\n",
      "ThreeofSpades\n",
      "KingofSpades\n",
      "SixofHearts\n",
      "KingofDiamonds\n",
      "JackofHearts\n",
      "QueenofSpades\n",
      "AceofClubs\n",
      "ThreeofDiamonds\n",
      "TwoofDiamonds\n",
      "FourofHearts\n",
      "FourofClubs\n",
      "TenofDiamonds\n",
      "SixofSpades\n",
      "SixofClubs\n",
      "AceofSpades\n",
      "SevenofHearts\n",
      "TwoofClubs\n",
      "SevenofClubs\n",
      "AceofDiamonds\n",
      "KingofHearts\n",
      "NineofClubs\n",
      "FourofSpades\n",
      "AceofHearts\n",
      "TwoofSpades\n",
      "EightofHearts\n"
     ]
    }
   ],
   "source": [
    "test_deck = Deck()\n",
    "test_deck.shuffle()\n",
    "\n",
    "print(test_deck)"
   ]
  },
  {
   "cell_type": "code",
   "execution_count": 31,
   "metadata": {},
   "outputs": [],
   "source": [
    "# Step 4: Create a Hand Class\n",
    "# In addition to holding Card objects dealt from the Deck, \n",
    "# the Hand class may be used to calculate the value of those cards using the values dictionary defined above. \n",
    "# It may also need to adjust for the value of Aces when appropriate."
   ]
  },
  {
   "cell_type": "code",
   "execution_count": 32,
   "metadata": {},
   "outputs": [],
   "source": [
    "class Hand:\n",
    "    def __init__(self):\n",
    "        self.cards = []     #Start with an empty list as we did in deck class\n",
    "        self.value = 0      #start with zero value\n",
    "        self.aces = 0       #add an attribute to keep track of aces\n",
    "        \n",
    "    def add_card(self,card):\n",
    "        # card passed in\n",
    "        # from Deck.deal() --> single Card(suit,rank)\n",
    "        self.cards.append(card)\n",
    "        self.value += values[card.rank]\n",
    "        \n",
    "        # track aces\n",
    "        if card.rank == 'Ace':\n",
    "            self.aces += 1\n",
    "        \n",
    "        \n",
    "    def adjust_for_ace(self):\n",
    "        \n",
    "        # IF TOTAL VALUE > 21 AND I STILL HAVE AN ACE\n",
    "        # THEN CHANGE MY ACE TO BE A 1 INSTED OF 11\n",
    "        while self.value > 21 and self.aces > 0:\n",
    "            self.value -= 10\n",
    "            self.aces -= 1\n",
    "        "
   ]
  },
  {
   "cell_type": "code",
   "execution_count": 33,
   "metadata": {},
   "outputs": [
    {
     "data": {
      "text/plain": [
       "11"
      ]
     },
     "execution_count": 33,
     "metadata": {},
     "output_type": "execute_result"
    }
   ],
   "source": [
    "test_deck = Deck()\n",
    "test_deck.shuffle()\n",
    "# Player\n",
    "test_player = Hand()\n",
    "# Deal 1 card from the deck Card(suit,rank)\n",
    "test_player.add_card(test_deck.deal())\n",
    "test_player.add_card(test_deck.deal())\n",
    "test_player.value"
   ]
  },
  {
   "cell_type": "code",
   "execution_count": 34,
   "metadata": {},
   "outputs": [
    {
     "name": "stdout",
     "output_type": "stream",
     "text": [
      "NineofDiamonds\n",
      "TwoofSpades\n"
     ]
    }
   ],
   "source": [
    "for card in test_player.cards:\n",
    "    print(card)"
   ]
  },
  {
   "cell_type": "code",
   "execution_count": 35,
   "metadata": {},
   "outputs": [],
   "source": [
    "\n",
    "# Step 5: Create a Chips Class\n",
    "# In addition to decks of cards and hands, we need to keep track of a Player's starting chips, bets, and ongoing winnings.\n",
    "# This could be done using global variables, but in the spirit of object oriented programming, let's make a Chips class instead!"
   ]
  },
  {
   "cell_type": "code",
   "execution_count": 36,
   "metadata": {},
   "outputs": [],
   "source": [
    "class Chips:\n",
    "    \n",
    "    def __init__(self):\n",
    "        self.total = 100  # This can be set to a default value or supplied by a user input\n",
    "        self.bet = 0\n",
    "        \n",
    "    def win_bet(self):\n",
    "        self.total += self.bet\n",
    "    \n",
    "    def lose_bet(self):\n",
    "        self.total -= self.bet"
   ]
  },
  {
   "cell_type": "code",
   "execution_count": 37,
   "metadata": {},
   "outputs": [],
   "source": [
    "\n",
    "# Step 6: Write a function for taking bets\n",
    "# Since we're asking the user for an integer value, this would be a good place to use try/except. \n",
    "# Remember to check that a Player's bet can be covered by their available chips."
   ]
  },
  {
   "cell_type": "code",
   "execution_count": 38,
   "metadata": {},
   "outputs": [],
   "source": [
    "def take_bet(chips):\n",
    "    \n",
    "    while True:\n",
    "        \n",
    "        try:\n",
    "            chips.bet = int(input('How many chips would you like to bet?'))\n",
    "            \n",
    "        except:\n",
    "            print(\"Please provide an integer\")\n",
    "        \n",
    "        else:\n",
    "            if chips.bet > chips.total:\n",
    "                print('Sorry,you do not have enough chips! You have {}'.format(chips.total))\n",
    "                \n",
    "            else:\n",
    "                break"
   ]
  },
  {
   "cell_type": "code",
   "execution_count": 39,
   "metadata": {},
   "outputs": [],
   "source": [
    "# Step 7: Write a function for taking hits\n",
    "# Either player can take hits until they bust. \n",
    "# This function will be called during gameplay anytime a Player requests a hit, or a Dealer's hand is less than 17. \n",
    "# It should take in Deck and Hand objects as arguments, and deal one card off the deck and add it to the Hand. \n",
    "# You may want it to check for aces in the event that a player's hand exceeds 21."
   ]
  },
  {
   "cell_type": "code",
   "execution_count": 40,
   "metadata": {},
   "outputs": [],
   "source": [
    "def hit(deck,hand):\n",
    "     single_card = deck.deal()\n",
    "     hand.add_card(single_card)\n",
    "     hand.adjust_for_ace()"
   ]
  },
  {
   "cell_type": "code",
   "execution_count": 41,
   "metadata": {},
   "outputs": [],
   "source": [
    "# Step 8: Write a function prompting the Player to Hit or Stand\n",
    "# This function should accept the deck and the player's hand as arguments, and assign playing as a global variable.\n",
    "# If the Player Hits, employ the hit() function above.\n",
    "# If the Player Stands, set the playing variable to False - this will control the behavior of a while loop later on in our code."
   ]
  },
  {
   "cell_type": "code",
   "execution_count": 42,
   "metadata": {},
   "outputs": [],
   "source": [
    "def hit_or_stand(deck,hand):\n",
    "    global playing      # to control on upcoming while loop\n",
    "    \n",
    "    while True:\n",
    "        x = input('Hit or Stand?Enter h or s')\n",
    "        \n",
    "        if x[0].lower() == 'h':\n",
    "            hit(deck,hand) \n",
    "            \n",
    "        elif x[0].lower() == 's':\n",
    "            print(\"Player's Stands Dealer Turn\")\n",
    "            playing = False\n",
    "            \n",
    "        else:\n",
    "            print(\"Sorry i did not understand that,Please enter h or s only!\")\n",
    "            continue\n",
    "        break\n",
    "            \n",
    "        "
   ]
  },
  {
   "cell_type": "code",
   "execution_count": 43,
   "metadata": {},
   "outputs": [],
   "source": [
    "# Step 9: Write functions to display cards\n",
    "# When the game starts, and after each time Player takes a card, \n",
    "# the dealer's first card is hidden and all of Player's cards are visible. \n",
    "# At the end of the hand all cards are shown, and you may want to show each hand's total value. \n",
    "# Write a function for each of these scenarios."
   ]
  },
  {
   "cell_type": "code",
   "execution_count": 44,
   "metadata": {},
   "outputs": [],
   "source": [
    "def show_some(player,dealer):\n",
    "    print(\"\\nDealer's Hand:\")\n",
    "    print(\" <card hidden>\")\n",
    "    print('',dealer.cards[1])  \n",
    "    print(\"\\nPlayer's Hand:\", *player.cards, sep='\\n ')\n",
    "    \n",
    "def show_all(player,dealer):\n",
    "    print(\"\\nDealer's Hand:\", *dealer.cards, sep='\\n ')\n",
    "    print(\"Dealer's Hand =\",dealer.value)\n",
    "    print(\"\\nPlayer's Hand:\", *player.cards, sep='\\n ')\n",
    "    print(\"Player's Hand =\",player.value)"
   ]
  },
  {
   "cell_type": "code",
   "execution_count": 45,
   "metadata": {},
   "outputs": [],
   "source": [
    "# Step 10: Write functions to handle end of game scenarios\n",
    "# Remember to pass player's hand, dealer's hand and chips as needed."
   ]
  },
  {
   "cell_type": "code",
   "execution_count": 46,
   "metadata": {},
   "outputs": [],
   "source": [
    "def player_busts(player,dealer,chips):\n",
    "    print(\"Player busts!\")\n",
    "    chips.lose_bet()\n",
    "\n",
    "def player_wins(player,dealer,chips):\n",
    "    print(\"Player wins!\")\n",
    "    chips.win_bet()\n",
    "    \n",
    "def dealer_busts(player,dealer,chips):\n",
    "    print(\"Player Wins!Dealer busted!\")\n",
    "    chips.win_bet()\n",
    "\n",
    "def dealer_wins(player,dealer,chips):\n",
    "    print(\"Dealer wins!\")\n",
    "    chips.lose_bet()\n",
    "    \n",
    "def push(player,dealer):\n",
    "    print(\"Dealer and Player tie! It's a push.\")\n"
   ]
  },
  {
   "cell_type": "code",
   "execution_count": 47,
   "metadata": {},
   "outputs": [],
   "source": [
    "# And now on to the game!"
   ]
  },
  {
   "cell_type": "code",
   "execution_count": null,
   "metadata": {
    "collapsed": true
   },
   "outputs": [
    {
     "name": "stdout",
     "output_type": "stream",
     "text": [
      "welcome to Black Jack\n",
      "How many chips would you like to bet?609\n",
      "Sorry,you do not have enough chips! You have 100\n",
      "How many chips would you like to bet?60\n",
      "\n",
      "Dealer's Hand:\n",
      " <card hidden>\n",
      " AceofHearts\n",
      "\n",
      "Player's Hand:\n",
      " TwoofDiamonds\n",
      " TwoofClubs\n",
      "Hit or Stand?Enter h or sh\n",
      "\n",
      "Dealer's Hand:\n",
      " <card hidden>\n",
      " AceofHearts\n",
      "\n",
      "Player's Hand:\n",
      " TwoofDiamonds\n",
      " TwoofClubs\n",
      " TenofDiamonds\n",
      "Hit or Stand?Enter h or sh\n",
      "\n",
      "Dealer's Hand:\n",
      " <card hidden>\n",
      " AceofHearts\n",
      "\n",
      "Player's Hand:\n",
      " TwoofDiamonds\n",
      " TwoofClubs\n",
      " TenofDiamonds\n",
      " KingofHearts\n",
      "Player busts!\n",
      "\n",
      " Player total chips are at: 40\n",
      "Would you like to play another hand? y/ny\n",
      "welcome to Black Jack\n",
      "How many chips would you like to bet?70\n",
      "\n",
      "Dealer's Hand:\n",
      " <card hidden>\n",
      " SevenofClubs\n",
      "\n",
      "Player's Hand:\n",
      " EightofClubs\n",
      " KingofSpades\n",
      "Hit or Stand?Enter h or ss\n",
      "Player's Stands Dealer Turn\n",
      "\n",
      "Dealer's Hand:\n",
      " <card hidden>\n",
      " SevenofClubs\n",
      "\n",
      "Player's Hand:\n",
      " EightofClubs\n",
      " KingofSpades\n",
      "\n",
      " Player total chips are at: 100\n"
     ]
    }
   ],
   "source": [
    "while True:\n",
    "    #print an opening statement\n",
    "    print(\"welcome to Black Jack\")\n",
    "    \n",
    "    #Create and shuffle the deck,deal two cards to each player\n",
    "    deck = Deck()\n",
    "    deck.shuffle()\n",
    "    \n",
    "    player_hand = Hand()\n",
    "    player_hand.add_card(deck.deal())\n",
    "    player_hand.add_card(deck.deal())\n",
    "    \n",
    "    dealer_hand = Hand()\n",
    "    dealer_hand.add_card(deck.deal())\n",
    "    dealer_hand.add_card(deck.deal())\n",
    "    \n",
    "    #Set up the player chips\n",
    "    player_chips = Chips()\n",
    "    \n",
    "    #Prompt the player for their bet\n",
    "    take_bet(player_chips)\n",
    "    \n",
    "    #Show cards but keep one dealer hand hidden\n",
    "    show_some(player_hand,dealer_hand)\n",
    "    \n",
    "    while playing:     # Recall this variable from our hit_or_stand function\n",
    "        hit_or_stand(deck,player_hand)\n",
    "        \n",
    "        #Show cards(but keep one card hidden)\n",
    "        show_some(player_hand,dealer_hand)\n",
    "        \n",
    "        #If player's hand exceeds 21,run player busts() and break out of loo\n",
    "        \n",
    "        if player_hand.value > 21:\n",
    "            player_busts(player_hand,dealer_hand,player_chips)\n",
    "            break\n",
    "            \n",
    "    #If player's hand hasn't busted,play dealer's hand until dealer reaches 17\n",
    "    if player_hand.value <= 21:\n",
    "        \n",
    "        while dealer_hand.value < 17:\n",
    "            hit(deck,dealer_hand)\n",
    "            \n",
    "            #Show all cards\n",
    "            show_all(player_hand,dealer_hand)\n",
    "            \n",
    "            #Run different winning scenarios\n",
    "            if dealer_hand.value > 21:\n",
    "                dealer_busts(player_hand,dealer_hand,player_chips)\n",
    "            \n",
    "            elif dealer_hand.value > player_hand.value:\n",
    "                dealer_wins(player_hand,dealer_hand,player_chips)\n",
    "                \n",
    "            elif  dealer_hand.value < player_hand.value:\n",
    "                player_wins(player_hand,dealer_hand,player_chips)\n",
    "            else:\n",
    "                push(player_hand,dealer_hand)\n",
    "                \n",
    "    # Inform player of their chips total\n",
    "    print(\"\\n Player total chips are at: {}\".format(player_chips.total))\n",
    "    # Ask to play again\n",
    "    new_game = input('Would you like to play another hand? y/n')\n",
    "    if new_game[0].lower() == 'y':\n",
    "        playing = True\n",
    "        continue\n",
    "    else:\n",
    "        print(\"Thankyou for playing!\")\n",
    "        \n",
    "        break\n",
    "    \n",
    "        \n",
    "        \n",
    "    \n",
    "    "
   ]
  },
  {
   "cell_type": "code",
   "execution_count": null,
   "metadata": {},
   "outputs": [],
   "source": [
    "while True:\n",
    "    # Print an opening statement\n",
    "    print('Welcome to BlackJack! Get as close to 21 as you can without going over!\\n\\\n",
    "    Dealer hits until she reaches 17. Aces count as 1 or 11.')\n",
    "    \n",
    "    # Create & shuffle the deck, deal two cards to each player\n",
    "    deck = Deck()\n",
    "    deck.shuffle()\n",
    "    \n",
    "    player_hand = Hand()\n",
    "    player_hand.add_card(deck.deal())\n",
    "    player_hand.add_card(deck.deal())\n",
    "    \n",
    "    dealer_hand = Hand()\n",
    "    dealer_hand.add_card(deck.deal())\n",
    "    dealer_hand.add_card(deck.deal())\n",
    "            \n",
    "    # Set up the Player's chips\n",
    "    player_chips = Chips()  # remember the default value is 100    \n",
    "    \n",
    "    # Prompt the Player for their bet\n",
    "    take_bet(player_chips)\n",
    "    \n",
    "    # Show cards (but keep one dealer card hidden)\n",
    "    show_some(player_hand,dealer_hand)\n",
    "    \n",
    "    while playing:  # recall this variable from our hit_or_stand function\n",
    "        \n",
    "        # Prompt for Player to Hit or Stand\n",
    "        hit_or_stand(deck,player_hand) \n",
    "        \n",
    "        # Show cards (but keep one dealer card hidden)\n",
    "        show_some(player_hand,dealer_hand)  \n",
    "        \n",
    "        # If player's hand exceeds 21, run player_busts() and break out of loop\n",
    "        if player_hand.value > 21:\n",
    "            player_busts(player_hand,dealer_hand,player_chips)\n",
    "            break        \n",
    "\n",
    "\n",
    "    # If Player hasn't busted, play Dealer's hand until Dealer reaches 17 \n",
    "    if player_hand.value <= 21:\n",
    "        \n",
    "        while dealer_hand.value < 17:\n",
    "            hit(deck,dealer_hand)    \n",
    "    \n",
    "        # Show all cards\n",
    "        show_all(player_hand,dealer_hand)\n",
    "        \n",
    "        # Run different winning scenarios\n",
    "        if dealer_hand.value > 21:\n",
    "            dealer_busts(player_hand,dealer_hand,player_chips)\n",
    "\n",
    "        elif dealer_hand.value > player_hand.value:\n",
    "            dealer_wins(player_hand,dealer_hand,player_chips)\n",
    "\n",
    "        elif dealer_hand.value < player_hand.value:\n",
    "            player_wins(player_hand,dealer_hand,player_chips)\n",
    "\n",
    "        else:\n",
    "            push(player_hand,dealer_hand)        \n",
    "    \n",
    "    # Inform Player of their chips total \n",
    "    print(\"\\nPlayer's winnings stand at\",player_chips.total)\n",
    "    \n",
    "    # Ask to play again\n",
    "    new_game = input(\"Would you like to play another hand? Enter 'y' or 'n' \")\n",
    "    \n",
    "    if new_game[0].lower()=='y':\n",
    "        playing=True\n",
    "        continue\n",
    "    else:\n",
    "        print(\"Thanks for playing!\")\n",
    "        break"
   ]
  },
  {
   "cell_type": "code",
   "execution_count": null,
   "metadata": {},
   "outputs": [],
   "source": []
  }
 ],
 "metadata": {
  "kernelspec": {
   "display_name": "Python 3",
   "language": "python",
   "name": "python3"
  },
  "language_info": {
   "codemirror_mode": {
    "name": "ipython",
    "version": 3
   },
   "file_extension": ".py",
   "mimetype": "text/x-python",
   "name": "python",
   "nbconvert_exporter": "python",
   "pygments_lexer": "ipython3",
   "version": "3.7.6"
  }
 },
 "nbformat": 4,
 "nbformat_minor": 4
}
